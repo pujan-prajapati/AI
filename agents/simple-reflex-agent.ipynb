{
 "cells": [
  {
   "cell_type": "markdown",
   "id": "ad1e2adf-e520-4bc8-99ff-f4b4da7362de",
   "metadata": {},
   "source": [
    "## Simple Reflex agent"
   ]
  },
  {
   "cell_type": "markdown",
   "id": "24b2106c-f5d5-43e5-a0dd-1fb5b62b25db",
   "metadata": {},
   "source": [
    "#### Task 1: Vacuum Cleaner Simulation (Basic)\n",
    "\n",
    "Create a Python program that simulates a vacuum cleaner agent.<br/>\n",
    "The environment is a 1D array (like a row of rooms): <br/>\n",
    "Example: [\"Dirty\", \"Clean\", \"Dirty\", \"Clean\"]\n",
    "The agent should:\n",
    "- Check each room.\n",
    "- If it’s \"Dirty\", clean it.\n",
    "- If it’s \"Clean\", move to the next room."
   ]
  },
  {
   "cell_type": "code",
   "execution_count": 13,
   "id": "5a172c25-fafe-480e-bcca-1043955b8faf",
   "metadata": {},
   "outputs": [
    {
     "name": "stdout",
     "output_type": "stream",
     "text": [
      "Room 1: Clean\n",
      "Room 2: Move to next room\n",
      "Room 3: Clean\n",
      "Room 4: Move to next room\n"
     ]
    }
   ],
   "source": [
    "def vaccuum_cleaner(percept):\n",
    "    for i in range(len(percept)):\n",
    "        if percept[i] == \"Dirty\":\n",
    "            print(f\"Room {i+1}: Clean\")\n",
    "        else:\n",
    "            print(f\"Room {i+1}: Move to next room\")\n",
    "            \n",
    "room =  [\"Dirty\", \"Clean\", \"Dirty\", \"Clean\"]\n",
    "vaccuum_cleaner(room)"
   ]
  },
  {
   "cell_type": "markdown",
   "id": "a21a875b-130b-4a73-91ec-297bc15fe435",
   "metadata": {},
   "source": [
    "#### Task 2: Light Controller Agent \n",
    "\n",
    "Create a simple agent for a smart home system. <br/>\n",
    "It reads the light level (\"Bright\" or \"Dark\"). <br/>\n",
    "Rule:\n",
    "- IF light is \"Dark\" → Turn ON light.\n",
    "- IF light is \"Bright\" → Turn OFF light.\n",
    "- Simulate it for 5 random light levels."
   ]
  },
  {
   "cell_type": "code",
   "execution_count": 15,
   "id": "8c7db410-fa70-4d36-8228-76dc695b2be6",
   "metadata": {},
   "outputs": [
    {
     "name": "stdout",
     "output_type": "stream",
     "text": [
      "Current light is Dark\n",
      "Turn OFF light\n",
      "Current light is Dark\n",
      "Turn OFF light\n",
      "Current light is Bright\n",
      "Turn ON light\n",
      "Current light is Dark\n",
      "Turn OFF light\n",
      "Current light is Dark\n",
      "Turn OFF light\n"
     ]
    }
   ],
   "source": [
    "import random\n",
    "\n",
    "def light_agent(percept):\n",
    "    if(percept == \"Dark\"):\n",
    "        print(\"Turn On light\")\n",
    "    else:\n",
    "        print(\"Turn  light\")\n",
    "\n",
    "percept = [\"Bright\", \"Dark\"]\n",
    "for i in range(5):\n",
    "    current = random.choice(percept)\n",
    "    print(f\"Current light is {current}\")\n",
    "    light_agent(current)"
   ]
  },
  {
   "cell_type": "markdown",
   "id": "7fcbe7c3-c532-4f3c-97cf-06af7f672fe6",
   "metadata": {},
   "source": [
    "#### Task 3 : Traffic Light Agent\n",
    "\n",
    "- Imagine a simple reflex agent controlling a pedestrian traffic light.\n",
    "- Input:\n",
    "    - \"CarWaiting\" or \"NoCar\"\n",
    "- Rule:\n",
    "    - IF \"NoCar\" → Allow pedestrians to cross (green light).\n",
    "    - IF \"CarWaiting\" → Stop pedestrians (red light).\n",
    "    - Implement this logic for a sequence of 10 inputs."
   ]
  },
  {
   "cell_type": "code",
   "execution_count": 10,
   "id": "db0cb100-62ea-457a-97cd-b4804204d4f9",
   "metadata": {},
   "outputs": [
    {
     "name": "stdout",
     "output_type": "stream",
     "text": [
      "1. Current traffic light is : NoCar\n",
      "Green light\n",
      "2. Current traffic light is : NoCar\n",
      "Green light\n",
      "3. Current traffic light is : CarWaiting\n",
      "Red light\n",
      "4. Current traffic light is : CarWaiting\n",
      "Red light\n",
      "5. Current traffic light is : NoCar\n",
      "Green light\n",
      "6. Current traffic light is : CarWaiting\n",
      "Red light\n",
      "7. Current traffic light is : NoCar\n",
      "Green light\n",
      "8. Current traffic light is : NoCar\n",
      "Green light\n",
      "9. Current traffic light is : CarWaiting\n",
      "Red light\n",
      "10. Current traffic light is : CarWaiting\n",
      "Red light\n"
     ]
    }
   ],
   "source": [
    "import random\n",
    "\n",
    "def traffic_agent(percept):\n",
    "    if(percept == \"NoCar\"):\n",
    "        print(\"Green light\")\n",
    "    else:\n",
    "        print(\"Red light\")\n",
    "\n",
    "light = [\"NoCar\", \"CarWaiting\"]\n",
    "for i in range(10):\n",
    "    current = random.choice(light)\n",
    "    print(f\"{i+1}. Current traffic light is : {current}\")\n",
    "    traffic_agent(current)\n",
    "    "
   ]
  },
  {
   "cell_type": "markdown",
   "id": "db57d2cf-fcb9-4189-89dc-61099f7398da",
   "metadata": {},
   "source": [
    "#### Temperature Regulator\n",
    "\n",
    "- The agent reads temperature (Cold, Comfortable, Hot).\n",
    "- Rule:\n",
    "    - IF \"Cold\" → Turn on heater.\n",
    "    - IF \"Hot\" → Turn on air conditioner.\n",
    "    - IF \"Comfortable\" → Do nothing.<br/>\n",
    "\n",
    "Randomly generate temperatures and apply the agent’s action."
   ]
  },
  {
   "cell_type": "code",
   "execution_count": 9,
   "id": "905f5b86-8e05-41d2-aded-d3c8dafa57a9",
   "metadata": {},
   "outputs": [
    {
     "name": "stdout",
     "output_type": "stream",
     "text": [
      "Current choice is : Comfortable\n",
      "Do nothing\n",
      "Current choice is : Comfortable\n",
      "Do nothing\n",
      "Current choice is : Cold\n",
      "Turn on heater\n",
      "Current choice is : Comfortable\n",
      "Do nothing\n",
      "Current choice is : Hot\n",
      "Turn on air conditioner\n"
     ]
    }
   ],
   "source": [
    "import random\n",
    "\n",
    "def temp_agent(percept):\n",
    "    if(percept == \"Cold\"):\n",
    "        print(\"Turn on heater\")\n",
    "    elif(percept == \"Hot\"):\n",
    "        print(\"Turn on air conditioner\")\n",
    "    else:\n",
    "        print(\"Do nothing\")\n",
    "\n",
    "temp = [\"Cold\", \"Comfortable\", \"Hot\"]\n",
    "for i in range(5):\n",
    "    current = random.choice(temp)\n",
    "    print(f\"Current choice is : {current}\")\n",
    "    temp_agent(current)"
   ]
  },
  {
   "cell_type": "markdown",
   "id": "93b3ed90-0a89-4e9e-9a8d-9e8c8295e5ad",
   "metadata": {},
   "source": [
    "#### Task 5 : Forest Fire Detection Agent\n",
    "\n",
    "- Environment:\n",
    "    - A grid (2D array) where each cell can be \"Safe\" or \"SmokeDetected\".\n",
    "- Agent:\n",
    "    - Scans each cell.\n",
    "    - Rule:\n",
    "        - IF \"SmokeDetected\" → Sound alarm.\n",
    "        - IF \"Safe\" → Move to the next cell.\n",
    "        - Implement the scanning and action logic."
   ]
  },
  {
   "cell_type": "code",
   "execution_count": 1,
   "id": "e33c4a61-c81d-4fdf-85ac-1a502e336d19",
   "metadata": {},
   "outputs": [
    {
     "name": "stdout",
     "output_type": "stream",
     "text": [
      "Cell (0, 0): Safe\n",
      "Cell (0, 1): Sound alarm\n",
      "Cell (1, 0): Sound alarm\n",
      "Cell (1, 1): Safe\n",
      "Cell (2, 0): Safe\n",
      "Cell (2, 1): Sound alarm\n"
     ]
    }
   ],
   "source": [
    "import numpy as np\n",
    "\n",
    "def fire_agent(percept):\n",
    "    for row in range(len(percept)):\n",
    "        for col in range(len(percept[row])):\n",
    "            if(percept[row][col] == \"smokeDetected\"):\n",
    "                print(f\"Cell ({row}, {col}): Sound alarm\")\n",
    "            else:\n",
    "                print(f\"Cell ({row}, {col}): Safe\")\n",
    "        \n",
    "\n",
    "env = np.array(\n",
    "    [[\"Safe\", \"smokeDetected\"],\n",
    "    [\"smokeDetected\", \"Safe\"],\n",
    "    [\"Safe\", \"smokeDetected\"]]\n",
    ")\n",
    "fire_agent(env)\n"
   ]
  }
 ],
 "metadata": {
  "kernelspec": {
   "display_name": "Python 3 (ipykernel)",
   "language": "python",
   "name": "python3"
  },
  "language_info": {
   "codemirror_mode": {
    "name": "ipython",
    "version": 3
   },
   "file_extension": ".py",
   "mimetype": "text/x-python",
   "name": "python",
   "nbconvert_exporter": "python",
   "pygments_lexer": "ipython3",
   "version": "3.12.7"
  }
 },
 "nbformat": 4,
 "nbformat_minor": 5
}
