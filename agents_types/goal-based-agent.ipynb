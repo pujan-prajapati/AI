{
 "cells": [
  {
   "cell_type": "code",
   "execution_count": 19,
   "id": "3e039b15-0f1f-4d7b-bc4d-e5bd496b3c30",
   "metadata": {},
   "outputs": [
    {
     "name": "stdout",
     "output_type": "stream",
     "text": [
      "Goal: Clean these room: ['Room A', 'Room C']\n",
      "\n",
      "Checking Room A\n",
      "Cleaning Room A...\n",
      "Moving to Room C to clean it next.\n",
      "\n",
      "Checking Room C\n",
      "Cleaning Room C...\n",
      "\n",
      "Goal achieved! Cleaned rooms: ['Room A', 'Room C']\n"
     ]
    }
   ],
   "source": [
    "# Goal-Based Cleaning agent\n",
    "\n",
    "def goal_based_cleaning_agent(rooms, current_room):\n",
    "    cleaned_rooms = []\n",
    "    goal = [room for room, status in rooms.items() if status == \"Dirty\"]\n",
    "\n",
    "    print(f\"Goal: Clean these room: {goal}\")\n",
    "\n",
    "    while goal:\n",
    "        print(f\"\\nChecking {current_room}\")\n",
    "        if rooms[current_room] == \"Dirty\" and current_room not in cleaned_rooms:\n",
    "            print(f\"Cleaning {current_room}...\")\n",
    "            cleaned_rooms.append(current_room)\n",
    "            goal.remove(current_room)\n",
    "        else:\n",
    "            print(f\"{current_room} is already clean or not dirty.\")\n",
    "\n",
    "        next_room = None\n",
    "        for room in rooms.keys():\n",
    "            if room not in cleaned_rooms and rooms[room] == \"Dirty\":\n",
    "                next_room = room\n",
    "                break\n",
    "\n",
    "        if next_room:\n",
    "            print(f\"Moving to {next_room} to clean it next.\")\n",
    "            current_room = next_room\n",
    "        else:\n",
    "            break\n",
    "\n",
    "    print(f\"\\nGoal achieved! Cleaned rooms: {cleaned_rooms}\")\n",
    "\n",
    "rooms = {\n",
    "    \"Room A\" : \"Dirty\",\n",
    "    \"Room B\" : \"Clean\",\n",
    "    \"Room C\" : \"Dirty\",\n",
    "    \"Room D\" : \"Clean\",\n",
    "}\n",
    "\n",
    "goal_based_cleaning_agent(rooms, \"Room A\")"
   ]
  }
 ],
 "metadata": {
  "kernelspec": {
   "display_name": "Python 3 (ipykernel)",
   "language": "python",
   "name": "python3"
  },
  "language_info": {
   "codemirror_mode": {
    "name": "ipython",
    "version": 3
   },
   "file_extension": ".py",
   "mimetype": "text/x-python",
   "name": "python",
   "nbconvert_exporter": "python",
   "pygments_lexer": "ipython3",
   "version": "3.12.7"
  }
 },
 "nbformat": 4,
 "nbformat_minor": 5
}
