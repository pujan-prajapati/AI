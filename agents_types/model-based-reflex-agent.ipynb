{
 "cells": [
  {
   "cell_type": "code",
   "execution_count": 7,
   "id": "f6638ad6-46f5-4f1f-be82-033b404f2842",
   "metadata": {},
   "outputs": [
    {
     "name": "stdout",
     "output_type": "stream",
     "text": [
      "Checking Room A...\n",
      "Cleaning Room A\n",
      "Checking Room B...\n",
      "Room B is already clean.\n",
      "Checking Room C...\n",
      "Cleaning Room C\n",
      "Checking Room A...\n",
      "Room A already cleaned before. Skipping\n",
      "Rooms cleaned so far: {'Room A', 'Room C'}\n"
     ]
    }
   ],
   "source": [
    "# Simple Cleaning Agent with memory\n",
    "\n",
    "def model_based_cleaning_agent(percepts):\n",
    "    cleaned_rooms = set()\n",
    "    for room, status in percepts:\n",
    "        print(f\"Checking {room}...\")\n",
    "        if status == \"Dirty\":\n",
    "            print(f\"Cleaning {room}\")\n",
    "            cleaned_rooms.add(room)\n",
    "        else:\n",
    "            if room in cleaned_rooms:\n",
    "                print(f\"{room} already cleaned before. Skipping\")\n",
    "            else:\n",
    "                print(f\"{room} is already clean.\")\n",
    "    print(f\"Rooms cleaned so far: {cleaned_rooms}\")\n",
    "\n",
    "percepts = [\n",
    "    (\"Room A\", \"Dirty\"),\n",
    "    (\"Room B\", \"Clean\"),\n",
    "    (\"Room C\", \"Dirty\"),\n",
    "    (\"Room A\", \"Clean\") \n",
    "]\n",
    "\n",
    "model_based_cleaning_agent(percepts)"
   ]
  },
  {
   "cell_type": "code",
   "execution_count": 1,
   "id": "14687bd2-39e8-4b42-9862-80e3779f0d21",
   "metadata": {},
   "outputs": [
    {
     "name": "stdout",
     "output_type": "stream",
     "text": [
      "Checking Room A...\n",
      "Room A: Smoke detected! Sound alarm\n",
      "Checking Room B...\n",
      "Room B: Safe\n",
      "Checking Room C...\n",
      "Room C: Smoke detected! Sound alarm\n",
      "\n",
      "Summary of memory (Internal Model):\n",
      "{'Room A': 'Danger', 'Room B': 'Safe', 'Room C': 'Danger'}\n"
     ]
    }
   ],
   "source": [
    "# Fire agent\n",
    "\n",
    "def model_based_fire_agent(environment):\n",
    "    internal_model = {}\n",
    "\n",
    "    for room, status in environment.items():\n",
    "        print(f\"Checking {room}...\")\n",
    "\n",
    "        # Check current percept\n",
    "        if status == \"SmokeDetected\":\n",
    "            print(f\"{room}: Smoke detected! Sound alarm\")\n",
    "            internal_model[room] = \"Danger\"\n",
    "        else:\n",
    "            print(f\"{room}: Safe\")\n",
    "            internal_model[room] = \"Safe\"\n",
    "\n",
    "    print(\"\\nSummary of memory (Internal Model):\")\n",
    "    print(internal_model)\n",
    "\n",
    "# Example Environment:\n",
    "env = {\n",
    "    \"Room A\": \"SmokeDetected\",\n",
    "    \"Room B\": \"Safe\",\n",
    "    \"Room C\": \"SmokeDetected\",\n",
    "}\n",
    "\n",
    "model_based_fire_agent(env)\n"
   ]
  },
  {
   "cell_type": "code",
   "execution_count": null,
   "id": "44218f55-31d8-480b-ac24-49ea06697ae2",
   "metadata": {},
   "outputs": [],
   "source": []
  }
 ],
 "metadata": {
  "kernelspec": {
   "display_name": "Python 3 (ipykernel)",
   "language": "python",
   "name": "python3"
  },
  "language_info": {
   "codemirror_mode": {
    "name": "ipython",
    "version": 3
   },
   "file_extension": ".py",
   "mimetype": "text/x-python",
   "name": "python",
   "nbconvert_exporter": "python",
   "pygments_lexer": "ipython3",
   "version": "3.12.7"
  }
 },
 "nbformat": 4,
 "nbformat_minor": 5
}
